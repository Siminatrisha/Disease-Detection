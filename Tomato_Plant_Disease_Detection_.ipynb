{
  "cells": [
    {
      "cell_type": "code",
      "execution_count": null,
      "metadata": {
        "colab": {
          "base_uri": "https://localhost:8080/"
        },
        "id": "mzqCEy3NWWHE",
        "outputId": "b8ffaff5-6d21-406b-ab01-ef41030feca6"
      },
      "outputs": [
        {
          "name": "stdout",
          "output_type": "stream",
          "text": [
            "Mounted at /content/gdrive\n"
          ]
        }
      ],
      "source": [
        "from google.colab import drive\n",
        "drive.mount('/content/gdrive')"
      ]
    },
    {
      "cell_type": "code",
      "execution_count": null,
      "metadata": {
        "colab": {
          "base_uri": "https://localhost:8080/"
        },
        "id": "9Z_pS2HUnKjZ",
        "outputId": "e03ec7ed-2a5f-4d39-8649-eb84975e06c5"
      },
      "outputs": [
        {
          "name": "stdout",
          "output_type": "stream",
          "text": [
            "'Colab Notebooks'      'My Drive'\t  Untitled1.ipynb\n",
            "'Getting started.pdf'   Untitled0.ipynb  'Untitled document.gdoc'\n"
          ]
        }
      ],
      "source": [
        "!ln -s /content/gdrive/My\\ Drive/ /mydrive\n",
        "!ls /mydrive"
      ]
    },
    {
      "cell_type": "code",
      "execution_count": null,
      "metadata": {
        "id": "5rJac47JvnuG"
      },
      "outputs": [],
      "source": [
        "from tensorflow.keras.layers import Input, Flatten ,Dense\n",
        "from tensorflow.keras.models import Model\n",
        "from tensorflow.keras.preprocessing import image\n",
        "from tensorflow.keras.preprocessing.image import ImageDataGenerator,load_img\n",
        "from tensorflow.keras.models import Sequential\n",
        "from tensorflow.keras import callbacks,optimizers\n",
        "import numpy as np\n",
        "import os\n",
        "import tensorflow as tf\n"
      ]
    },
    {
      "cell_type": "markdown",
      "metadata": {
        "id": "bRYxpSLSkjqa"
      },
      "source": [
        "## ***IMAGE PREPROCESSING***"
      ]
    },
    {
      "cell_type": "code",
      "execution_count": null,
      "metadata": {
        "colab": {
          "base_uri": "https://localhost:8080/"
        },
        "id": "Na5_n52HvoFt",
        "outputId": "9dbfa844-ce59-466b-a590-105939ca7a28"
      },
      "outputs": [
        {
          "name": "stdout",
          "output_type": "stream",
          "text": [
            "Found 8695 images belonging to 8 classes.\n",
            "Found 1388 images belonging to 8 classes.\n"
          ]
        },
        {
          "data": {
            "text/plain": [
              "array([0, 0, 0, ..., 7, 7, 7], dtype=int32)"
            ]
          },
          "execution_count": 4,
          "metadata": {
            "tags": []
          },
          "output_type": "execute_result"
        }
      ],
      "source": [
        "train_datagen = ImageDataGenerator(\n",
        "        rescale=1./255,\n",
        "        shear_range=0.2,\n",
        "        zoom_range=0.5,\n",
        "        horizontal_flip=True,\n",
        "        brightness_range=[1.0,2.0],\n",
        "        )\n",
        "train_set = train_datagen.flow_from_directory(\n",
        "        r'/mydrive/Colab Notebooks/MD2/train',\n",
        "        target_size=(224,224),\n",
        "        color_mode='rgb',\n",
        "        batch_size=64,\n",
        "        shuffle=True,\n",
        "        class_mode='categorical',\n",
        "        seed=42,\n",
        "        )\n",
        "\n",
        "valid_datagen = ImageDataGenerator(rescale=1./255)\n",
        "valid_set = valid_datagen.flow_from_directory(\n",
        "        r'/mydrive/Colab Notebooks/MD2/validation',\n",
        "        target_size=(224,224),\n",
        "        color_mode='rgb',\n",
        "        batch_size=64,\n",
        "        class_mode='categorical',\n",
        "        shuffle=True,\n",
        "        seed=42,\n",
        "        )\n",
        "\n",
        "\n",
        "train_set.class_indices\n",
        "train_set.classes"
      ]
    },
    {
      "cell_type": "code",
      "execution_count": null,
      "metadata": {
        "colab": {
          "base_uri": "https://localhost:8080/"
        },
        "id": "i2nIrD84TfTa",
        "outputId": "7512f3b4-d4e6-43c8-ece0-fe3ab5ffb454"
      },
      "outputs": [
        {
          "data": {
            "text/plain": [
              "{'Bacterial Spot': 0,\n",
              " 'Early Blight': 1,\n",
              " 'Healthy': 2,\n",
              " 'Late Blight': 3,\n",
              " 'Leaf Mold': 4,\n",
              " 'Septoria leaf spot': 5,\n",
              " 'Target Spot': 6,\n",
              " 'Tomato Mosaic Virus': 7}"
            ]
          },
          "execution_count": 6,
          "metadata": {
            "tags": []
          },
          "output_type": "execute_result"
        }
      ],
      "source": [
        "train_set.class_indices"
      ]
    },
    {
      "cell_type": "code",
      "execution_count": null,
      "metadata": {
        "colab": {
          "base_uri": "https://localhost:8080/"
        },
        "id": "_ZQM9dTdWmMF",
        "outputId": "d06a28aa-7220-4ed9-9922-a94347cd3b14"
      },
      "outputs": [
        {
          "data": {
            "text/plain": [
              "{'Bacterial Spot': 0,\n",
              " 'Early Blight': 1,\n",
              " 'Healthy': 2,\n",
              " 'Late Blight': 3,\n",
              " 'Leaf Mold': 4,\n",
              " 'Septoria leaf spot': 5,\n",
              " 'Target Spot': 6,\n",
              " 'Tomato Mosaic Virus': 7}"
            ]
          },
          "execution_count": 7,
          "metadata": {
            "tags": []
          },
          "output_type": "execute_result"
        }
      ],
      "source": [
        "valid_set.class_indices"
      ]
    },
    {
      "cell_type": "markdown",
      "metadata": {
        "id": "A1z3TRovmwt9"
      },
      "source": [
        "# ***Create MODEL By Using Xception***"
      ]
    },
    {
      "cell_type": "code",
      "execution_count": null,
      "metadata": {
        "colab": {
          "base_uri": "https://localhost:8080/"
        },
        "id": "gxfxFGBD6xkB",
        "outputId": "a39fd3e3-88a0-4707-c033-f7e53db64eff"
      },
      "outputs": [
        {
          "name": "stdout",
          "output_type": "stream",
          "text": [
            "Downloading data from https://storage.googleapis.com/tensorflow/keras-applications/xception/xception_weights_tf_dim_ordering_tf_kernels_notop.h5\n",
            "83689472/83683744 [==============================] - 1s 0us/step\n"
          ]
        }
      ],
      "source": [
        "from tensorflow.keras.applications import Xception\n",
        "\n",
        "base_model = Xception(include_top = False, # Leave out the last fully connected layer\n",
        "weights = 'imagenet',\n",
        "input_shape = (224, 224, 3), \n",
        "pooling='max')\n",
        "\n",
        "\n",
        "\n",
        "for layer in base_model.layers:\n",
        "    layer.trainable = False\n",
        "\n",
        "x = Flatten()(base_model.output)\n",
        "\n",
        "x = Dense(1024)(x)\n",
        "\n",
        "x = Dense(512, activation='relu')(x)\n",
        "\n",
        "x = Dense(8, activation='softmax')(x)\n",
        "\n",
        "model = tf.keras.models.Model(base_model.input, x)"
      ]
    },
    {
      "cell_type": "markdown",
      "metadata": {
        "id": "QIE-VIo5lacF"
      },
      "source": [
        "# ***COMPILE MODEL***"
      ]
    },
    {
      "cell_type": "code",
      "execution_count": null,
      "metadata": {
        "id": "EZ6rRUBE7T14"
      },
      "outputs": [],
      "source": [
        "opt = tf.keras.optimizers.Adam(learning_rate=0.0001)\n",
        "model.compile(loss='categorical_crossentropy', \n",
        "              optimizer=opt,\n",
        "              metrics=['accuracy'])"
      ]
    },
    {
      "cell_type": "markdown",
      "metadata": {
        "id": "XGGWHuB-llgE"
      },
      "source": [
        "# **Summary of MODEL**"
      ]
    },
    {
      "cell_type": "code",
      "execution_count": null,
      "metadata": {
        "colab": {
          "base_uri": "https://localhost:8080/"
        },
        "id": "i6pt_n7XvoQd",
        "outputId": "4d7b14cb-cc84-41ac-cc26-b38942f9f5c8"
      },
      "outputs": [
        {
          "name": "stdout",
          "output_type": "stream",
          "text": [
            "Model: \"model\"\n",
            "__________________________________________________________________________________________________\n",
            "Layer (type)                    Output Shape         Param #     Connected to                     \n",
            "==================================================================================================\n",
            "input_1 (InputLayer)            [(None, 224, 224, 3) 0                                            \n",
            "__________________________________________________________________________________________________\n",
            "block1_conv1 (Conv2D)           (None, 111, 111, 32) 864         input_1[0][0]                    \n",
            "__________________________________________________________________________________________________\n",
            "block1_conv1_bn (BatchNormaliza (None, 111, 111, 32) 128         block1_conv1[0][0]               \n",
            "__________________________________________________________________________________________________\n",
            "block1_conv1_act (Activation)   (None, 111, 111, 32) 0           block1_conv1_bn[0][0]            \n",
            "__________________________________________________________________________________________________\n",
            "block1_conv2 (Conv2D)           (None, 109, 109, 64) 18432       block1_conv1_act[0][0]           \n",
            "__________________________________________________________________________________________________\n",
            "block1_conv2_bn (BatchNormaliza (None, 109, 109, 64) 256         block1_conv2[0][0]               \n",
            "__________________________________________________________________________________________________\n",
            "block1_conv2_act (Activation)   (None, 109, 109, 64) 0           block1_conv2_bn[0][0]            \n",
            "__________________________________________________________________________________________________\n",
            "block2_sepconv1 (SeparableConv2 (None, 109, 109, 128 8768        block1_conv2_act[0][0]           \n",
            "__________________________________________________________________________________________________\n",
            "block2_sepconv1_bn (BatchNormal (None, 109, 109, 128 512         block2_sepconv1[0][0]            \n",
            "__________________________________________________________________________________________________\n",
            "block2_sepconv2_act (Activation (None, 109, 109, 128 0           block2_sepconv1_bn[0][0]         \n",
            "__________________________________________________________________________________________________\n",
            "block2_sepconv2 (SeparableConv2 (None, 109, 109, 128 17536       block2_sepconv2_act[0][0]        \n",
            "__________________________________________________________________________________________________\n",
            "block2_sepconv2_bn (BatchNormal (None, 109, 109, 128 512         block2_sepconv2[0][0]            \n",
            "__________________________________________________________________________________________________\n",
            "conv2d (Conv2D)                 (None, 55, 55, 128)  8192        block1_conv2_act[0][0]           \n",
            "__________________________________________________________________________________________________\n",
            "block2_pool (MaxPooling2D)      (None, 55, 55, 128)  0           block2_sepconv2_bn[0][0]         \n",
            "__________________________________________________________________________________________________\n",
            "batch_normalization (BatchNorma (None, 55, 55, 128)  512         conv2d[0][0]                     \n",
            "__________________________________________________________________________________________________\n",
            "add (Add)                       (None, 55, 55, 128)  0           block2_pool[0][0]                \n",
            "                                                                 batch_normalization[0][0]        \n",
            "__________________________________________________________________________________________________\n",
            "block3_sepconv1_act (Activation (None, 55, 55, 128)  0           add[0][0]                        \n",
            "__________________________________________________________________________________________________\n",
            "block3_sepconv1 (SeparableConv2 (None, 55, 55, 256)  33920       block3_sepconv1_act[0][0]        \n",
            "__________________________________________________________________________________________________\n",
            "block3_sepconv1_bn (BatchNormal (None, 55, 55, 256)  1024        block3_sepconv1[0][0]            \n",
            "__________________________________________________________________________________________________\n",
            "block3_sepconv2_act (Activation (None, 55, 55, 256)  0           block3_sepconv1_bn[0][0]         \n",
            "__________________________________________________________________________________________________\n",
            "block3_sepconv2 (SeparableConv2 (None, 55, 55, 256)  67840       block3_sepconv2_act[0][0]        \n",
            "__________________________________________________________________________________________________\n",
            "block3_sepconv2_bn (BatchNormal (None, 55, 55, 256)  1024        block3_sepconv2[0][0]            \n",
            "__________________________________________________________________________________________________\n",
            "conv2d_1 (Conv2D)               (None, 28, 28, 256)  32768       add[0][0]                        \n",
            "__________________________________________________________________________________________________\n",
            "block3_pool (MaxPooling2D)      (None, 28, 28, 256)  0           block3_sepconv2_bn[0][0]         \n",
            "__________________________________________________________________________________________________\n",
            "batch_normalization_1 (BatchNor (None, 28, 28, 256)  1024        conv2d_1[0][0]                   \n",
            "__________________________________________________________________________________________________\n",
            "add_1 (Add)                     (None, 28, 28, 256)  0           block3_pool[0][0]                \n",
            "                                                                 batch_normalization_1[0][0]      \n",
            "__________________________________________________________________________________________________\n",
            "block4_sepconv1_act (Activation (None, 28, 28, 256)  0           add_1[0][0]                      \n",
            "__________________________________________________________________________________________________\n",
            "block4_sepconv1 (SeparableConv2 (None, 28, 28, 728)  188672      block4_sepconv1_act[0][0]        \n",
            "__________________________________________________________________________________________________\n",
            "block4_sepconv1_bn (BatchNormal (None, 28, 28, 728)  2912        block4_sepconv1[0][0]            \n",
            "__________________________________________________________________________________________________\n",
            "block4_sepconv2_act (Activation (None, 28, 28, 728)  0           block4_sepconv1_bn[0][0]         \n",
            "__________________________________________________________________________________________________\n",
            "block4_sepconv2 (SeparableConv2 (None, 28, 28, 728)  536536      block4_sepconv2_act[0][0]        \n",
            "__________________________________________________________________________________________________\n",
            "block4_sepconv2_bn (BatchNormal (None, 28, 28, 728)  2912        block4_sepconv2[0][0]            \n",
            "__________________________________________________________________________________________________\n",
            "conv2d_2 (Conv2D)               (None, 14, 14, 728)  186368      add_1[0][0]                      \n",
            "__________________________________________________________________________________________________\n",
            "block4_pool (MaxPooling2D)      (None, 14, 14, 728)  0           block4_sepconv2_bn[0][0]         \n",
            "__________________________________________________________________________________________________\n",
            "batch_normalization_2 (BatchNor (None, 14, 14, 728)  2912        conv2d_2[0][0]                   \n",
            "__________________________________________________________________________________________________\n",
            "add_2 (Add)                     (None, 14, 14, 728)  0           block4_pool[0][0]                \n",
            "                                                                 batch_normalization_2[0][0]      \n",
            "__________________________________________________________________________________________________\n",
            "block5_sepconv1_act (Activation (None, 14, 14, 728)  0           add_2[0][0]                      \n",
            "__________________________________________________________________________________________________\n",
            "block5_sepconv1 (SeparableConv2 (None, 14, 14, 728)  536536      block5_sepconv1_act[0][0]        \n",
            "__________________________________________________________________________________________________\n",
            "block5_sepconv1_bn (BatchNormal (None, 14, 14, 728)  2912        block5_sepconv1[0][0]            \n",
            "__________________________________________________________________________________________________\n",
            "block5_sepconv2_act (Activation (None, 14, 14, 728)  0           block5_sepconv1_bn[0][0]         \n",
            "__________________________________________________________________________________________________\n",
            "block5_sepconv2 (SeparableConv2 (None, 14, 14, 728)  536536      block5_sepconv2_act[0][0]        \n",
            "__________________________________________________________________________________________________\n",
            "block5_sepconv2_bn (BatchNormal (None, 14, 14, 728)  2912        block5_sepconv2[0][0]            \n",
            "__________________________________________________________________________________________________\n",
            "block5_sepconv3_act (Activation (None, 14, 14, 728)  0           block5_sepconv2_bn[0][0]         \n",
            "__________________________________________________________________________________________________\n",
            "block5_sepconv3 (SeparableConv2 (None, 14, 14, 728)  536536      block5_sepconv3_act[0][0]        \n",
            "__________________________________________________________________________________________________\n",
            "block5_sepconv3_bn (BatchNormal (None, 14, 14, 728)  2912        block5_sepconv3[0][0]            \n",
            "__________________________________________________________________________________________________\n",
            "add_3 (Add)                     (None, 14, 14, 728)  0           block5_sepconv3_bn[0][0]         \n",
            "                                                                 add_2[0][0]                      \n",
            "__________________________________________________________________________________________________\n",
            "block6_sepconv1_act (Activation (None, 14, 14, 728)  0           add_3[0][0]                      \n",
            "__________________________________________________________________________________________________\n",
            "block6_sepconv1 (SeparableConv2 (None, 14, 14, 728)  536536      block6_sepconv1_act[0][0]        \n",
            "__________________________________________________________________________________________________\n",
            "block6_sepconv1_bn (BatchNormal (None, 14, 14, 728)  2912        block6_sepconv1[0][0]            \n",
            "__________________________________________________________________________________________________\n",
            "block6_sepconv2_act (Activation (None, 14, 14, 728)  0           block6_sepconv1_bn[0][0]         \n",
            "__________________________________________________________________________________________________\n",
            "block6_sepconv2 (SeparableConv2 (None, 14, 14, 728)  536536      block6_sepconv2_act[0][0]        \n",
            "__________________________________________________________________________________________________\n",
            "block6_sepconv2_bn (BatchNormal (None, 14, 14, 728)  2912        block6_sepconv2[0][0]            \n",
            "__________________________________________________________________________________________________\n",
            "block6_sepconv3_act (Activation (None, 14, 14, 728)  0           block6_sepconv2_bn[0][0]         \n",
            "__________________________________________________________________________________________________\n",
            "block6_sepconv3 (SeparableConv2 (None, 14, 14, 728)  536536      block6_sepconv3_act[0][0]        \n",
            "__________________________________________________________________________________________________\n",
            "block6_sepconv3_bn (BatchNormal (None, 14, 14, 728)  2912        block6_sepconv3[0][0]            \n",
            "__________________________________________________________________________________________________\n",
            "add_4 (Add)                     (None, 14, 14, 728)  0           block6_sepconv3_bn[0][0]         \n",
            "                                                                 add_3[0][0]                      \n",
            "__________________________________________________________________________________________________\n",
            "block7_sepconv1_act (Activation (None, 14, 14, 728)  0           add_4[0][0]                      \n",
            "__________________________________________________________________________________________________\n",
            "block7_sepconv1 (SeparableConv2 (None, 14, 14, 728)  536536      block7_sepconv1_act[0][0]        \n",
            "__________________________________________________________________________________________________\n",
            "block7_sepconv1_bn (BatchNormal (None, 14, 14, 728)  2912        block7_sepconv1[0][0]            \n",
            "__________________________________________________________________________________________________\n",
            "block7_sepconv2_act (Activation (None, 14, 14, 728)  0           block7_sepconv1_bn[0][0]         \n",
            "__________________________________________________________________________________________________\n",
            "block7_sepconv2 (SeparableConv2 (None, 14, 14, 728)  536536      block7_sepconv2_act[0][0]        \n",
            "__________________________________________________________________________________________________\n",
            "block7_sepconv2_bn (BatchNormal (None, 14, 14, 728)  2912        block7_sepconv2[0][0]            \n",
            "__________________________________________________________________________________________________\n",
            "block7_sepconv3_act (Activation (None, 14, 14, 728)  0           block7_sepconv2_bn[0][0]         \n",
            "__________________________________________________________________________________________________\n",
            "block7_sepconv3 (SeparableConv2 (None, 14, 14, 728)  536536      block7_sepconv3_act[0][0]        \n",
            "__________________________________________________________________________________________________\n",
            "block7_sepconv3_bn (BatchNormal (None, 14, 14, 728)  2912        block7_sepconv3[0][0]            \n",
            "__________________________________________________________________________________________________\n",
            "add_5 (Add)                     (None, 14, 14, 728)  0           block7_sepconv3_bn[0][0]         \n",
            "                                                                 add_4[0][0]                      \n",
            "__________________________________________________________________________________________________\n",
            "block8_sepconv1_act (Activation (None, 14, 14, 728)  0           add_5[0][0]                      \n",
            "__________________________________________________________________________________________________\n",
            "block8_sepconv1 (SeparableConv2 (None, 14, 14, 728)  536536      block8_sepconv1_act[0][0]        \n",
            "__________________________________________________________________________________________________\n",
            "block8_sepconv1_bn (BatchNormal (None, 14, 14, 728)  2912        block8_sepconv1[0][0]            \n",
            "__________________________________________________________________________________________________\n",
            "block8_sepconv2_act (Activation (None, 14, 14, 728)  0           block8_sepconv1_bn[0][0]         \n",
            "__________________________________________________________________________________________________\n",
            "block8_sepconv2 (SeparableConv2 (None, 14, 14, 728)  536536      block8_sepconv2_act[0][0]        \n",
            "__________________________________________________________________________________________________\n",
            "block8_sepconv2_bn (BatchNormal (None, 14, 14, 728)  2912        block8_sepconv2[0][0]            \n",
            "__________________________________________________________________________________________________\n",
            "block8_sepconv3_act (Activation (None, 14, 14, 728)  0           block8_sepconv2_bn[0][0]         \n",
            "__________________________________________________________________________________________________\n",
            "block8_sepconv3 (SeparableConv2 (None, 14, 14, 728)  536536      block8_sepconv3_act[0][0]        \n",
            "__________________________________________________________________________________________________\n",
            "block8_sepconv3_bn (BatchNormal (None, 14, 14, 728)  2912        block8_sepconv3[0][0]            \n",
            "__________________________________________________________________________________________________\n",
            "add_6 (Add)                     (None, 14, 14, 728)  0           block8_sepconv3_bn[0][0]         \n",
            "                                                                 add_5[0][0]                      \n",
            "__________________________________________________________________________________________________\n",
            "block9_sepconv1_act (Activation (None, 14, 14, 728)  0           add_6[0][0]                      \n",
            "__________________________________________________________________________________________________\n",
            "block9_sepconv1 (SeparableConv2 (None, 14, 14, 728)  536536      block9_sepconv1_act[0][0]        \n",
            "__________________________________________________________________________________________________\n",
            "block9_sepconv1_bn (BatchNormal (None, 14, 14, 728)  2912        block9_sepconv1[0][0]            \n",
            "__________________________________________________________________________________________________\n",
            "block9_sepconv2_act (Activation (None, 14, 14, 728)  0           block9_sepconv1_bn[0][0]         \n",
            "__________________________________________________________________________________________________\n",
            "block9_sepconv2 (SeparableConv2 (None, 14, 14, 728)  536536      block9_sepconv2_act[0][0]        \n",
            "__________________________________________________________________________________________________\n",
            "block9_sepconv2_bn (BatchNormal (None, 14, 14, 728)  2912        block9_sepconv2[0][0]            \n",
            "__________________________________________________________________________________________________\n",
            "block9_sepconv3_act (Activation (None, 14, 14, 728)  0           block9_sepconv2_bn[0][0]         \n",
            "__________________________________________________________________________________________________\n",
            "block9_sepconv3 (SeparableConv2 (None, 14, 14, 728)  536536      block9_sepconv3_act[0][0]        \n",
            "__________________________________________________________________________________________________\n",
            "block9_sepconv3_bn (BatchNormal (None, 14, 14, 728)  2912        block9_sepconv3[0][0]            \n",
            "__________________________________________________________________________________________________\n",
            "add_7 (Add)                     (None, 14, 14, 728)  0           block9_sepconv3_bn[0][0]         \n",
            "                                                                 add_6[0][0]                      \n",
            "__________________________________________________________________________________________________\n",
            "block10_sepconv1_act (Activatio (None, 14, 14, 728)  0           add_7[0][0]                      \n",
            "__________________________________________________________________________________________________\n",
            "block10_sepconv1 (SeparableConv (None, 14, 14, 728)  536536      block10_sepconv1_act[0][0]       \n",
            "__________________________________________________________________________________________________\n",
            "block10_sepconv1_bn (BatchNorma (None, 14, 14, 728)  2912        block10_sepconv1[0][0]           \n",
            "__________________________________________________________________________________________________\n",
            "block10_sepconv2_act (Activatio (None, 14, 14, 728)  0           block10_sepconv1_bn[0][0]        \n",
            "__________________________________________________________________________________________________\n",
            "block10_sepconv2 (SeparableConv (None, 14, 14, 728)  536536      block10_sepconv2_act[0][0]       \n",
            "__________________________________________________________________________________________________\n",
            "block10_sepconv2_bn (BatchNorma (None, 14, 14, 728)  2912        block10_sepconv2[0][0]           \n",
            "__________________________________________________________________________________________________\n",
            "block10_sepconv3_act (Activatio (None, 14, 14, 728)  0           block10_sepconv2_bn[0][0]        \n",
            "__________________________________________________________________________________________________\n",
            "block10_sepconv3 (SeparableConv (None, 14, 14, 728)  536536      block10_sepconv3_act[0][0]       \n",
            "__________________________________________________________________________________________________\n",
            "block10_sepconv3_bn (BatchNorma (None, 14, 14, 728)  2912        block10_sepconv3[0][0]           \n",
            "__________________________________________________________________________________________________\n",
            "add_8 (Add)                     (None, 14, 14, 728)  0           block10_sepconv3_bn[0][0]        \n",
            "                                                                 add_7[0][0]                      \n",
            "__________________________________________________________________________________________________\n",
            "block11_sepconv1_act (Activatio (None, 14, 14, 728)  0           add_8[0][0]                      \n",
            "__________________________________________________________________________________________________\n",
            "block11_sepconv1 (SeparableConv (None, 14, 14, 728)  536536      block11_sepconv1_act[0][0]       \n",
            "__________________________________________________________________________________________________\n",
            "block11_sepconv1_bn (BatchNorma (None, 14, 14, 728)  2912        block11_sepconv1[0][0]           \n",
            "__________________________________________________________________________________________________\n",
            "block11_sepconv2_act (Activatio (None, 14, 14, 728)  0           block11_sepconv1_bn[0][0]        \n",
            "__________________________________________________________________________________________________\n",
            "block11_sepconv2 (SeparableConv (None, 14, 14, 728)  536536      block11_sepconv2_act[0][0]       \n",
            "__________________________________________________________________________________________________\n",
            "block11_sepconv2_bn (BatchNorma (None, 14, 14, 728)  2912        block11_sepconv2[0][0]           \n",
            "__________________________________________________________________________________________________\n",
            "block11_sepconv3_act (Activatio (None, 14, 14, 728)  0           block11_sepconv2_bn[0][0]        \n",
            "__________________________________________________________________________________________________\n",
            "block11_sepconv3 (SeparableConv (None, 14, 14, 728)  536536      block11_sepconv3_act[0][0]       \n",
            "__________________________________________________________________________________________________\n",
            "block11_sepconv3_bn (BatchNorma (None, 14, 14, 728)  2912        block11_sepconv3[0][0]           \n",
            "__________________________________________________________________________________________________\n",
            "add_9 (Add)                     (None, 14, 14, 728)  0           block11_sepconv3_bn[0][0]        \n",
            "                                                                 add_8[0][0]                      \n",
            "__________________________________________________________________________________________________\n",
            "block12_sepconv1_act (Activatio (None, 14, 14, 728)  0           add_9[0][0]                      \n",
            "__________________________________________________________________________________________________\n",
            "block12_sepconv1 (SeparableConv (None, 14, 14, 728)  536536      block12_sepconv1_act[0][0]       \n",
            "__________________________________________________________________________________________________\n",
            "block12_sepconv1_bn (BatchNorma (None, 14, 14, 728)  2912        block12_sepconv1[0][0]           \n",
            "__________________________________________________________________________________________________\n",
            "block12_sepconv2_act (Activatio (None, 14, 14, 728)  0           block12_sepconv1_bn[0][0]        \n",
            "__________________________________________________________________________________________________\n",
            "block12_sepconv2 (SeparableConv (None, 14, 14, 728)  536536      block12_sepconv2_act[0][0]       \n",
            "__________________________________________________________________________________________________\n",
            "block12_sepconv2_bn (BatchNorma (None, 14, 14, 728)  2912        block12_sepconv2[0][0]           \n",
            "__________________________________________________________________________________________________\n",
            "block12_sepconv3_act (Activatio (None, 14, 14, 728)  0           block12_sepconv2_bn[0][0]        \n",
            "__________________________________________________________________________________________________\n",
            "block12_sepconv3 (SeparableConv (None, 14, 14, 728)  536536      block12_sepconv3_act[0][0]       \n",
            "__________________________________________________________________________________________________\n",
            "block12_sepconv3_bn (BatchNorma (None, 14, 14, 728)  2912        block12_sepconv3[0][0]           \n",
            "__________________________________________________________________________________________________\n",
            "add_10 (Add)                    (None, 14, 14, 728)  0           block12_sepconv3_bn[0][0]        \n",
            "                                                                 add_9[0][0]                      \n",
            "__________________________________________________________________________________________________\n",
            "block13_sepconv1_act (Activatio (None, 14, 14, 728)  0           add_10[0][0]                     \n",
            "__________________________________________________________________________________________________\n",
            "block13_sepconv1 (SeparableConv (None, 14, 14, 728)  536536      block13_sepconv1_act[0][0]       \n",
            "__________________________________________________________________________________________________\n",
            "block13_sepconv1_bn (BatchNorma (None, 14, 14, 728)  2912        block13_sepconv1[0][0]           \n",
            "__________________________________________________________________________________________________\n",
            "block13_sepconv2_act (Activatio (None, 14, 14, 728)  0           block13_sepconv1_bn[0][0]        \n",
            "__________________________________________________________________________________________________\n",
            "block13_sepconv2 (SeparableConv (None, 14, 14, 1024) 752024      block13_sepconv2_act[0][0]       \n",
            "__________________________________________________________________________________________________\n",
            "block13_sepconv2_bn (BatchNorma (None, 14, 14, 1024) 4096        block13_sepconv2[0][0]           \n",
            "__________________________________________________________________________________________________\n",
            "conv2d_3 (Conv2D)               (None, 7, 7, 1024)   745472      add_10[0][0]                     \n",
            "__________________________________________________________________________________________________\n",
            "block13_pool (MaxPooling2D)     (None, 7, 7, 1024)   0           block13_sepconv2_bn[0][0]        \n",
            "__________________________________________________________________________________________________\n",
            "batch_normalization_3 (BatchNor (None, 7, 7, 1024)   4096        conv2d_3[0][0]                   \n",
            "__________________________________________________________________________________________________\n",
            "add_11 (Add)                    (None, 7, 7, 1024)   0           block13_pool[0][0]               \n",
            "                                                                 batch_normalization_3[0][0]      \n",
            "__________________________________________________________________________________________________\n",
            "block14_sepconv1 (SeparableConv (None, 7, 7, 1536)   1582080     add_11[0][0]                     \n",
            "__________________________________________________________________________________________________\n",
            "block14_sepconv1_bn (BatchNorma (None, 7, 7, 1536)   6144        block14_sepconv1[0][0]           \n",
            "__________________________________________________________________________________________________\n",
            "block14_sepconv1_act (Activatio (None, 7, 7, 1536)   0           block14_sepconv1_bn[0][0]        \n",
            "__________________________________________________________________________________________________\n",
            "block14_sepconv2 (SeparableConv (None, 7, 7, 2048)   3159552     block14_sepconv1_act[0][0]       \n",
            "__________________________________________________________________________________________________\n",
            "block14_sepconv2_bn (BatchNorma (None, 7, 7, 2048)   8192        block14_sepconv2[0][0]           \n",
            "__________________________________________________________________________________________________\n",
            "block14_sepconv2_act (Activatio (None, 7, 7, 2048)   0           block14_sepconv2_bn[0][0]        \n",
            "__________________________________________________________________________________________________\n",
            "global_max_pooling2d (GlobalMax (None, 2048)         0           block14_sepconv2_act[0][0]       \n",
            "__________________________________________________________________________________________________\n",
            "flatten (Flatten)               (None, 2048)         0           global_max_pooling2d[0][0]       \n",
            "__________________________________________________________________________________________________\n",
            "dense (Dense)                   (None, 1024)         2098176     flatten[0][0]                    \n",
            "__________________________________________________________________________________________________\n",
            "dense_1 (Dense)                 (None, 512)          524800      dense[0][0]                      \n",
            "__________________________________________________________________________________________________\n",
            "dense_2 (Dense)                 (None, 8)            4104        dense_1[0][0]                    \n",
            "==================================================================================================\n",
            "Total params: 23,488,560\n",
            "Trainable params: 2,627,080\n",
            "Non-trainable params: 20,861,480\n",
            "__________________________________________________________________________________________________\n"
          ]
        }
      ],
      "source": [
        "#summary\n",
        "model.summary()"
      ]
    },
    {
      "cell_type": "code",
      "execution_count": null,
      "metadata": {
        "id": "NTGolAB5voTe"
      },
      "outputs": [],
      "source": [
        "elst=callbacks.EarlyStopping(monitor='val_loss',patience=5,mode='min')\n",
        "save_ck=callbacks.ModelCheckpoint('.mdl_wt_system_3200.h5',save_best_only=True,monitor='val_loss',mode='min')"
      ]
    },
    {
      "cell_type": "markdown",
      "metadata": {
        "id": "XHQIXNsQltXd"
      },
      "source": [
        "# ***FIT MODEL***"
      ]
    },
    {
      "cell_type": "code",
      "execution_count": null,
      "metadata": {
        "colab": {
          "base_uri": "https://localhost:8080/"
        },
        "id": "cmcGT0R0wK68",
        "outputId": "27b105af-6b00-43cf-c8d9-aaf5b7d24c9b"
      },
      "outputs": [
        {
          "name": "stdout",
          "output_type": "stream",
          "text": [
            "Epoch 1/70\n",
            "136/136 [==============================] - 4884s 36s/step - loss: 1.0741 - accuracy: 0.6281 - val_loss: 0.8555 - val_accuracy: 0.6931\n",
            "Epoch 2/70\n",
            "136/136 [==============================] - 176s 1s/step - loss: 0.7066 - accuracy: 0.7551 - val_loss: 0.6799 - val_accuracy: 0.7716\n",
            "Epoch 3/70\n",
            "136/136 [==============================] - 175s 1s/step - loss: 0.6220 - accuracy: 0.7842 - val_loss: 0.5882 - val_accuracy: 0.7889\n",
            "Epoch 4/70\n",
            "136/136 [==============================] - 174s 1s/step - loss: 0.5668 - accuracy: 0.8043 - val_loss: 0.6216 - val_accuracy: 0.7788\n",
            "Epoch 5/70\n",
            "136/136 [==============================] - 174s 1s/step - loss: 0.5205 - accuracy: 0.8186 - val_loss: 0.5398 - val_accuracy: 0.8127\n",
            "Epoch 6/70\n",
            "136/136 [==============================] - 175s 1s/step - loss: 0.4838 - accuracy: 0.8294 - val_loss: 0.5580 - val_accuracy: 0.8062\n",
            "Epoch 7/70\n",
            "136/136 [==============================] - 175s 1s/step - loss: 0.4728 - accuracy: 0.8354 - val_loss: 0.5024 - val_accuracy: 0.8199\n",
            "Epoch 8/70\n",
            "136/136 [==============================] - 174s 1s/step - loss: 0.4501 - accuracy: 0.8461 - val_loss: 0.5059 - val_accuracy: 0.8206\n",
            "Epoch 9/70\n",
            "136/136 [==============================] - 174s 1s/step - loss: 0.4214 - accuracy: 0.8531 - val_loss: 0.4775 - val_accuracy: 0.8401\n",
            "Epoch 10/70\n",
            "136/136 [==============================] - 174s 1s/step - loss: 0.4118 - accuracy: 0.8555 - val_loss: 0.6098 - val_accuracy: 0.7903\n",
            "Epoch 11/70\n",
            "136/136 [==============================] - 174s 1s/step - loss: 0.3998 - accuracy: 0.8589 - val_loss: 0.5392 - val_accuracy: 0.8134\n",
            "Epoch 12/70\n",
            "136/136 [==============================] - 174s 1s/step - loss: 0.3840 - accuracy: 0.8627 - val_loss: 0.4923 - val_accuracy: 0.8264\n",
            "Epoch 13/70\n",
            "136/136 [==============================] - 174s 1s/step - loss: 0.3752 - accuracy: 0.8680 - val_loss: 0.4499 - val_accuracy: 0.8487\n",
            "Epoch 14/70\n",
            "136/136 [==============================] - 174s 1s/step - loss: 0.3583 - accuracy: 0.8745 - val_loss: 0.5049 - val_accuracy: 0.8264\n",
            "Epoch 15/70\n",
            "136/136 [==============================] - 174s 1s/step - loss: 0.3474 - accuracy: 0.8757 - val_loss: 0.4741 - val_accuracy: 0.8509\n",
            "Epoch 16/70\n",
            "136/136 [==============================] - 177s 1s/step - loss: 0.3451 - accuracy: 0.8781 - val_loss: 0.4273 - val_accuracy: 0.8516\n",
            "Epoch 17/70\n",
            "136/136 [==============================] - 175s 1s/step - loss: 0.3396 - accuracy: 0.8820 - val_loss: 0.4180 - val_accuracy: 0.8523\n",
            "Epoch 18/70\n",
            "136/136 [==============================] - 175s 1s/step - loss: 0.3239 - accuracy: 0.8848 - val_loss: 0.4094 - val_accuracy: 0.8624\n",
            "Epoch 19/70\n",
            "136/136 [==============================] - 175s 1s/step - loss: 0.3074 - accuracy: 0.8926 - val_loss: 0.5131 - val_accuracy: 0.8264\n",
            "Epoch 20/70\n",
            "136/136 [==============================] - 174s 1s/step - loss: 0.3143 - accuracy: 0.8912 - val_loss: 0.4257 - val_accuracy: 0.8480\n",
            "Epoch 21/70\n",
            "136/136 [==============================] - 174s 1s/step - loss: 0.3098 - accuracy: 0.8914 - val_loss: 0.4345 - val_accuracy: 0.8552\n",
            "Epoch 22/70\n",
            "136/136 [==============================] - 171s 1s/step - loss: 0.2929 - accuracy: 0.8997 - val_loss: 0.4432 - val_accuracy: 0.8473\n",
            "Epoch 23/70\n",
            "136/136 [==============================] - 171s 1s/step - loss: 0.2976 - accuracy: 0.8959 - val_loss: 0.4165 - val_accuracy: 0.8617\n",
            "Epoch 24/70\n",
            "136/136 [==============================] - 173s 1s/step - loss: 0.2947 - accuracy: 0.8938 - val_loss: 0.4396 - val_accuracy: 0.8465\n",
            "Epoch 25/70\n",
            "136/136 [==============================] - 170s 1s/step - loss: 0.2908 - accuracy: 0.8976 - val_loss: 0.4973 - val_accuracy: 0.8379\n",
            "Epoch 26/70\n",
            "136/136 [==============================] - 169s 1s/step - loss: 0.2965 - accuracy: 0.8952 - val_loss: 0.4154 - val_accuracy: 0.8617\n",
            "Epoch 27/70\n",
            "136/136 [==============================] - 170s 1s/step - loss: 0.2761 - accuracy: 0.9022 - val_loss: 0.4289 - val_accuracy: 0.8552\n",
            "Epoch 28/70\n",
            "136/136 [==============================] - 177s 1s/step - loss: 0.2772 - accuracy: 0.9017 - val_loss: 0.4107 - val_accuracy: 0.8559\n",
            "Epoch 29/70\n",
            "136/136 [==============================] - 168s 1s/step - loss: 0.2697 - accuracy: 0.9034 - val_loss: 0.4928 - val_accuracy: 0.8365\n",
            "Epoch 30/70\n",
            "136/136 [==============================] - 168s 1s/step - loss: 0.2689 - accuracy: 0.9037 - val_loss: 0.4098 - val_accuracy: 0.8638\n",
            "Epoch 31/70\n",
            "136/136 [==============================] - 167s 1s/step - loss: 0.2651 - accuracy: 0.9070 - val_loss: 0.3962 - val_accuracy: 0.8631\n",
            "Epoch 32/70\n",
            "136/136 [==============================] - 169s 1s/step - loss: 0.2578 - accuracy: 0.9101 - val_loss: 0.3739 - val_accuracy: 0.8775\n",
            "Epoch 33/70\n",
            "136/136 [==============================] - 168s 1s/step - loss: 0.2471 - accuracy: 0.9125 - val_loss: 0.4090 - val_accuracy: 0.8689\n",
            "Epoch 34/70\n",
            "136/136 [==============================] - 172s 1s/step - loss: 0.2467 - accuracy: 0.9121 - val_loss: 0.4147 - val_accuracy: 0.8660\n",
            "Epoch 35/70\n",
            "136/136 [==============================] - 175s 1s/step - loss: 0.2474 - accuracy: 0.9143 - val_loss: 0.3681 - val_accuracy: 0.8790\n",
            "Epoch 36/70\n",
            "136/136 [==============================] - 176s 1s/step - loss: 0.2376 - accuracy: 0.9128 - val_loss: 0.4230 - val_accuracy: 0.8530\n",
            "Epoch 37/70\n",
            "136/136 [==============================] - 177s 1s/step - loss: 0.2458 - accuracy: 0.9137 - val_loss: 0.3817 - val_accuracy: 0.8746\n",
            "Epoch 38/70\n",
            "136/136 [==============================] - 176s 1s/step - loss: 0.2328 - accuracy: 0.9178 - val_loss: 0.4175 - val_accuracy: 0.8739\n",
            "Epoch 39/70\n",
            "136/136 [==============================] - 176s 1s/step - loss: 0.2371 - accuracy: 0.9194 - val_loss: 0.4418 - val_accuracy: 0.8595\n",
            "Epoch 40/70\n",
            "136/136 [==============================] - 173s 1s/step - loss: 0.2418 - accuracy: 0.9116 - val_loss: 0.3614 - val_accuracy: 0.8883\n",
            "Epoch 41/70\n",
            "136/136 [==============================] - 174s 1s/step - loss: 0.2285 - accuracy: 0.9200 - val_loss: 0.3676 - val_accuracy: 0.8782\n",
            "Epoch 42/70\n",
            "136/136 [==============================] - 174s 1s/step - loss: 0.2230 - accuracy: 0.9234 - val_loss: 0.3706 - val_accuracy: 0.8804\n",
            "Epoch 43/70\n",
            "136/136 [==============================] - 170s 1s/step - loss: 0.2265 - accuracy: 0.9208 - val_loss: 0.3582 - val_accuracy: 0.8847\n",
            "Epoch 44/70\n",
            "136/136 [==============================] - 170s 1s/step - loss: 0.2347 - accuracy: 0.9165 - val_loss: 0.3582 - val_accuracy: 0.8782\n",
            "Epoch 45/70\n",
            "136/136 [==============================] - 174s 1s/step - loss: 0.2267 - accuracy: 0.9201 - val_loss: 0.3467 - val_accuracy: 0.8826\n",
            "Epoch 46/70\n",
            "136/136 [==============================] - 177s 1s/step - loss: 0.2225 - accuracy: 0.9209 - val_loss: 0.3584 - val_accuracy: 0.8811\n",
            "Epoch 47/70\n",
            "136/136 [==============================] - 176s 1s/step - loss: 0.2191 - accuracy: 0.9225 - val_loss: 0.3729 - val_accuracy: 0.8790\n",
            "Epoch 48/70\n",
            "136/136 [==============================] - 176s 1s/step - loss: 0.2133 - accuracy: 0.9226 - val_loss: 0.3745 - val_accuracy: 0.8790\n",
            "Epoch 49/70\n",
            "136/136 [==============================] - 175s 1s/step - loss: 0.2259 - accuracy: 0.9179 - val_loss: 0.3694 - val_accuracy: 0.8725\n",
            "Epoch 50/70\n",
            "136/136 [==============================] - 176s 1s/step - loss: 0.2118 - accuracy: 0.9263 - val_loss: 0.4385 - val_accuracy: 0.8610\n",
            "Epoch 51/70\n",
            "136/136 [==============================] - 176s 1s/step - loss: 0.2177 - accuracy: 0.9235 - val_loss: 0.3798 - val_accuracy: 0.8782\n",
            "Epoch 52/70\n",
            "136/136 [==============================] - 176s 1s/step - loss: 0.2011 - accuracy: 0.9302 - val_loss: 0.4059 - val_accuracy: 0.8667\n",
            "Epoch 53/70\n",
            "136/136 [==============================] - 175s 1s/step - loss: 0.2066 - accuracy: 0.9298 - val_loss: 0.3623 - val_accuracy: 0.8876\n",
            "Epoch 54/70\n",
            "136/136 [==============================] - 175s 1s/step - loss: 0.2107 - accuracy: 0.9244 - val_loss: 0.3308 - val_accuracy: 0.8963\n",
            "Epoch 55/70\n",
            "136/136 [==============================] - 175s 1s/step - loss: 0.1927 - accuracy: 0.9349 - val_loss: 0.3420 - val_accuracy: 0.8883\n",
            "Epoch 56/70\n",
            "136/136 [==============================] - 176s 1s/step - loss: 0.1887 - accuracy: 0.9344 - val_loss: 0.3506 - val_accuracy: 0.8847\n",
            "Epoch 57/70\n",
            "136/136 [==============================] - 176s 1s/step - loss: 0.1981 - accuracy: 0.9271 - val_loss: 0.3399 - val_accuracy: 0.8890\n",
            "Epoch 58/70\n",
            "136/136 [==============================] - 176s 1s/step - loss: 0.1927 - accuracy: 0.9295 - val_loss: 0.3363 - val_accuracy: 0.8898\n",
            "Epoch 59/70\n",
            "136/136 [==============================] - 177s 1s/step - loss: 0.1985 - accuracy: 0.9295 - val_loss: 0.3311 - val_accuracy: 0.8811\n",
            "Epoch 60/70\n",
            "136/136 [==============================] - 174s 1s/step - loss: 0.1924 - accuracy: 0.9311 - val_loss: 0.3806 - val_accuracy: 0.8898\n",
            "Epoch 61/70\n",
            "136/136 [==============================] - 174s 1s/step - loss: 0.1861 - accuracy: 0.9329 - val_loss: 0.3885 - val_accuracy: 0.8847\n",
            "Epoch 62/70\n",
            "136/136 [==============================] - 175s 1s/step - loss: 0.1880 - accuracy: 0.9334 - val_loss: 0.3465 - val_accuracy: 0.8898\n",
            "Epoch 63/70\n",
            "136/136 [==============================] - 175s 1s/step - loss: 0.1737 - accuracy: 0.9394 - val_loss: 0.3943 - val_accuracy: 0.8876\n",
            "Epoch 64/70\n",
            "136/136 [==============================] - 175s 1s/step - loss: 0.1862 - accuracy: 0.9316 - val_loss: 0.3441 - val_accuracy: 0.8833\n",
            "Epoch 65/70\n",
            "136/136 [==============================] - 174s 1s/step - loss: 0.1829 - accuracy: 0.9339 - val_loss: 0.3861 - val_accuracy: 0.8790\n",
            "Epoch 66/70\n",
            "136/136 [==============================] - 175s 1s/step - loss: 0.1773 - accuracy: 0.9364 - val_loss: 0.3547 - val_accuracy: 0.8811\n",
            "Epoch 67/70\n",
            "136/136 [==============================] - 174s 1s/step - loss: 0.1943 - accuracy: 0.9292 - val_loss: 0.3770 - val_accuracy: 0.8818\n",
            "Epoch 68/70\n",
            "136/136 [==============================] - 178s 1s/step - loss: 0.1892 - accuracy: 0.9329 - val_loss: 0.3560 - val_accuracy: 0.8876\n",
            "Epoch 69/70\n",
            "136/136 [==============================] - 178s 1s/step - loss: 0.1733 - accuracy: 0.9386 - val_loss: 0.3512 - val_accuracy: 0.8941\n",
            "Epoch 70/70\n",
            "136/136 [==============================] - 178s 1s/step - loss: 0.1832 - accuracy: 0.9333 - val_loss: 0.3700 - val_accuracy: 0.8782\n"
          ]
        }
      ],
      "source": [
        "r=model.fit(\n",
        "                train_set,\n",
        "                epochs=70,\n",
        "                validation_data=valid_set\n",
        "            )"
      ]
    },
    {
      "cell_type": "code",
      "execution_count": null,
      "metadata": {
        "colab": {
          "base_uri": "https://localhost:8080/"
        },
        "id": "0TQpql5l4teH",
        "outputId": "c9af6e61-825a-48ba-ca40-f7495bf00b5f"
      },
      "outputs": [
        {
          "name": "stderr",
          "output_type": "stream",
          "text": [
            "/usr/local/lib/python3.7/dist-packages/tensorflow/python/keras/utils/generic_utils.py:497: CustomMaskWarning: Custom mask layers require a config and must override get_config. When loading, the custom mask layer must be passed to the custom_objects argument.\n",
            "  category=CustomMaskWarning)\n"
          ]
        },
        {
          "name": "stdout",
          "output_type": "stream",
          "text": [
            "INFO:tensorflow:Assets written to: /mydrive/Colab Notebooks/MD2/Plant_system_3200.model/assets\n"
          ]
        }
      ],
      "source": [
        "model.save(r'/mydrive/Colab Notebooks/MD2/Plant_system_3200.model')"
      ]
    },
    {
      "cell_type": "markdown",
      "metadata": {
        "id": "0vPzlOgUlz9r"
      },
      "source": [
        "# ***Plotting MODEL***"
      ]
    },
    {
      "cell_type": "code",
      "execution_count": null,
      "metadata": {
        "colab": {
          "base_uri": "https://localhost:8080/",
          "height": 295
        },
        "id": "vrxy9qqTwK22",
        "outputId": "8d6cc1a2-b2a7-487c-f106-12a3bc7356a9"
      },
      "outputs": [
        {
          "data": {
            "image/png": "[encoded data removed]",
            "text/plain": [
              "<Figure size 432x288 with 1 Axes>"
            ]
          },
          "metadata": {
            "needs_background": "light",
            "tags": []
          },
          "output_type": "display_data"
        }
      ],
      "source": [
        "import matplotlib.pyplot as plt\n",
        "# plot the loss\n",
        "plt.plot(r.history['loss'], label='train loss')\n",
        "plt.plot(r.history['val_loss'], label='val loss')\n",
        "plt.xlabel('epochs')\n",
        "plt.ylabel('Loss')\n",
        "plt.title('Loss Graph')\n",
        "plt.legend()\n",
        "plt.show()"
      ]
    },
    {
      "cell_type": "code",
      "execution_count": null,
      "metadata": {
        "colab": {
          "base_uri": "https://localhost:8080/",
          "height": 295
        },
        "id": "P9iN9ubKwKyE",
        "outputId": "96df8a4d-2880-45b0-9fbd-c16b061466b5"
      },
      "outputs": [
        {
          "data": {
            "image/png": "[encoded data removed]",
            "text/plain": [
              "<Figure size 432x288 with 1 Axes>"
            ]
          },
          "metadata": {
            "tags": []
          },
          "output_type": "display_data"
        }
      ],
      "source": [
        "# plot the accuracy\n",
        "plt.plot(r.history['accuracy'], label='train acc')\n",
        "plt.plot(r.history['val_accuracy'], label='val acc')\n",
        "plt.xlabel('epochs')\n",
        "plt.ylabel('Accuracy')\n",
        "plt.title('Accuracy Graph')\n",
        "plt.legend()\n",
        "plt.show()"
      ]
    },
    {
      "cell_type": "code",
      "execution_count": null,
      "metadata": {
        "colab": {
          "base_uri": "https://localhost:8080/"
        },
        "id": "ahs7QKHfx-gR",
        "outputId": "40f73540-c0b3-443a-e6dd-4ed669d12ca3"
      },
      "outputs": [
        {
          "name": "stdout",
          "output_type": "stream",
          "text": [
            "Found 1359 images belonging to 8 classes.\n"
          ]
        }
      ],
      "source": [
        "test_datagen = ImageDataGenerator(rescale=1./255)\n",
        "test_set = test_datagen.flow_from_directory(\n",
        "                                        r'/mydrive/Colab Notebooks/MD2/test',\n",
        "                                        target_size=(224,224),\n",
        "                                        color_mode='rgb',\n",
        "                                        batch_size=64,\n",
        "                                        class_mode='categorical',\n",
        "                                        shuffle=False,\n",
        "                                        seed=42)\n",
        "\n",
        "test_imgs, test_labels = next(test_set)"
      ]
    },
    {
      "cell_type": "markdown",
      "metadata": {
        "id": "589eDDgXl-_h"
      },
      "source": [
        "# ***LOAD MODEL***"
      ]
    },
    {
      "cell_type": "code",
      "execution_count": null,
      "metadata": {
        "colab": {
          "base_uri": "https://localhost:8080/"
        },
        "id": "i4cp4_CzJBst",
        "outputId": "7d08c5c5-e0a4-47c5-d6a8-5daac8ce6b56"
      },
      "outputs": [
        {
          "data": {
            "text/plain": [
              "array([[1., 0., 0., ..., 0., 0., 0.],\n",
              "       [1., 0., 0., ..., 0., 0., 0.],\n",
              "       [1., 0., 0., ..., 0., 0., 0.],\n",
              "       ...,\n",
              "       [0., 0., 0., ..., 0., 0., 1.],\n",
              "       [0., 0., 0., ..., 0., 0., 1.],\n",
              "       [0., 0., 0., ..., 0., 0., 1.]], dtype=float32)"
            ]
          },
          "execution_count": 6,
          "metadata": {
            "tags": []
          },
          "output_type": "execute_result"
        }
      ],
      "source": [
        "model = tf.keras.models.load_model(r'/mydrive/Colab Notebooks/MD2/Plant_system_3200.model')\n",
        "predictions = model.predict(x=test_set, verbose=0)\n",
        "np.round(predictions)"
      ]
    },
    {
      "cell_type": "markdown",
      "metadata": {
        "id": "HyXp43EOmGMh"
      },
      "source": [
        "# Confution Matrix"
      ]
    },
    {
      "cell_type": "code",
      "execution_count": null,
      "metadata": {
        "id": "okJ4XIJVJBig"
      },
      "outputs": [],
      "source": [
        "import sklearn    \n",
        "from sklearn.metrics import confusion_matrix\n",
        "\n",
        "y_true=test_set.classes\n",
        "y_pred=np.argmax(predictions, axis=-1)\n",
        "\n",
        "cm = confusion_matrix(y_true, y_pred)"
      ]
    },
    {
      "cell_type": "code",
      "execution_count": null,
      "metadata": {
        "colab": {
          "base_uri": "https://localhost:8080/"
        },
        "id": "B7Hj78XAkFo0",
        "outputId": "fbbdd6a5-7462-4925-db34-9248365b1fa3"
      },
      "outputs": [
        {
          "data": {
            "text/plain": [
              "array([[140,   1,   0,   1,   1,   5,   2,   0],\n",
              "       [ 11, 112,   0,  24,   3,   8,  16,   0],\n",
              "       [  0,   5, 116,  18,   5,   0,  27,   2],\n",
              "       [  1,   3,   0, 159,   2,   4,   3,   1],\n",
              "       [  0,   2,   1,   3, 156,   3,   2,   5],\n",
              "       [  3,  22,   1,  11,   9, 101,  14,  11],\n",
              "       [  3,   6,   3,   2,   2,   5, 149,   3],\n",
              "       [  1,   0,   0,   2,   3,   3,   0, 163]])"
            ]
          },
          "execution_count": 8,
          "metadata": {
            "tags": []
          },
          "output_type": "execute_result"
        }
      ],
      "source": [
        "cm"
      ]
    },
    {
      "cell_type": "markdown",
      "metadata": {
        "id": "cvUOO1hcmNxl"
      },
      "source": [
        "# ***CLASSIFICATION REPORT***"
      ]
    },
    {
      "cell_type": "code",
      "execution_count": null,
      "metadata": {
        "colab": {
          "base_uri": "https://localhost:8080/"
        },
        "id": "tvbOLZAqLFkB",
        "outputId": "2f6fb15d-3815-41d6-8d5b-da7e3520681b"
      },
      "outputs": [
        {
          "name": "stdout",
          "output_type": "stream",
          "text": [
            "              precision    recall  f1-score   support\n",
            "\n",
            "           0       0.88      0.93      0.91       150\n",
            "           1       0.74      0.64      0.69       174\n",
            "           2       0.96      0.67      0.79       173\n",
            "           3       0.72      0.92      0.81       173\n",
            "           4       0.86      0.91      0.88       172\n",
            "           5       0.78      0.59      0.67       172\n",
            "           6       0.70      0.86      0.77       173\n",
            "           7       0.88      0.95      0.91       172\n",
            "\n",
            "    accuracy                           0.81      1359\n",
            "   macro avg       0.82      0.81      0.80      1359\n",
            "weighted avg       0.81      0.81      0.80      1359\n",
            "\n"
          ]
        }
      ],
      "source": [
        "from sklearn.metrics import classification_report\n",
        "\n",
        "print(classification_report(y_true, y_pred))"
      ]
    },
    {
      "cell_type": "code",
      "execution_count": null,
      "metadata": {
        "id": "ClFQWuqv0hEU"
      },
      "outputs": [],
      "source": [
        "classes=['Bacterial Spot',\n",
        "        'Early Blight',\n",
        "        'Healthy',\n",
        "        'Late Blight',\n",
        "        'Leaf Mold',\n",
        "        'Septoria leaf spot',\n",
        "        'Target Spot',\n",
        "        'Tomato Mosaic Virus']"
      ]
    },
    {
      "cell_type": "markdown",
      "metadata": {
        "id": "ViwGSql-masR"
      },
      "source": [
        "#Prediction"
      ]
    },
    {
      "cell_type": "code",
      "execution_count": null,
      "metadata": {
        "id": "Eo7oRjH8wKte"
      },
      "outputs": [],
      "source": [
        "y_pred = model.predict(test_set)"
      ]
    },
    {
      "cell_type": "code",
      "execution_count": null,
      "metadata": {
        "colab": {
          "base_uri": "https://localhost:8080/"
        },
        "id": "Cw7EV9EzwVky",
        "outputId": "393d7bc6-51e3-438a-de91-e3c5bdb15c76"
      },
      "outputs": [
        {
          "data": {
            "text/plain": [
              "array([[9.83494341e-01, 6.05127634e-03, 1.20540335e-06, 4.18253214e-04,\n",
              "        2.06107483e-03, 3.48934997e-03, 4.48435917e-03, 9.22760712e-09],\n",
              "       [9.86715019e-01, 5.31212800e-06, 7.38540678e-08, 7.86623335e-04,\n",
              "        1.28625552e-05, 1.24023370e-02, 7.00140881e-05, 7.77519654e-06],\n",
              "       [9.90477920e-01, 1.69305531e-05, 2.08047197e-08, 3.24760826e-04,\n",
              "        2.99447292e-05, 7.86612236e-06, 9.14261024e-03, 1.81628698e-10],\n",
              "       [9.99889970e-01, 2.47486173e-06, 9.69775328e-07, 8.83348079e-08,\n",
              "        4.53536768e-06, 1.05694298e-05, 9.13649128e-05, 1.59225111e-09],\n",
              "       [9.02650118e-01, 1.54826313e-03, 4.31786107e-10, 3.68044493e-05,\n",
              "        6.86417043e-05, 9.27084759e-02, 2.98190839e-03, 5.91563457e-06],\n",
              "       [9.99979734e-01, 9.27367296e-07, 1.28088207e-09, 1.16358407e-08,\n",
              "        1.41787427e-06, 1.99790122e-08, 1.78895862e-05, 2.42498324e-08],\n",
              "       [8.03794920e-01, 9.96452719e-02, 1.10232158e-07, 3.84213217e-06,\n",
              "        3.90372361e-06, 9.65136364e-02, 2.32177408e-05, 1.51778822e-05],\n",
              "       [9.56394076e-01, 7.43911078e-05, 1.52375724e-05, 1.31072826e-04,\n",
              "        2.54917182e-02, 1.42866978e-02, 1.77766651e-05, 3.58906598e-03],\n",
              "       [1.12535104e-01, 1.02159411e-05, 1.33387830e-05, 1.13811098e-01,\n",
              "        1.58651662e-03, 7.72043824e-01, 6.28426511e-09, 5.50578338e-09],\n",
              "       [9.96172488e-01, 7.83600262e-04, 2.41760234e-09, 3.50698647e-05,\n",
              "        1.90688565e-03, 1.85088749e-04, 7.33687542e-04, 1.83208933e-04]],\n",
              "      dtype=float32)"
            ]
          },
          "execution_count": 12,
          "metadata": {
            "tags": []
          },
          "output_type": "execute_result"
        }
      ],
      "source": [
        "y_pred [:10]"
      ]
    },
    {
      "cell_type": "code",
      "execution_count": null,
      "metadata": {
        "id": "ir_ucUpGwVhU"
      },
      "outputs": [],
      "source": [
        "y_classes = [np.argmax(element) for element in y_pred]"
      ]
    },
    {
      "cell_type": "code",
      "execution_count": null,
      "metadata": {
        "colab": {
          "base_uri": "https://localhost:8080/"
        },
        "id": "wwk41m3AwVd8",
        "outputId": "09ac91f2-cb74-4a6a-be63-946b79347821"
      },
      "outputs": [
        {
          "data": {
            "text/plain": [
              "[0, 0, 0, 0, 0, 0, 0, 0, 5, 0, 0, 0, 0, 3, 0]"
            ]
          },
          "execution_count": 14,
          "metadata": {
            "tags": []
          },
          "output_type": "execute_result"
        }
      ],
      "source": [
        "y_classes[:15]"
      ]
    },
    {
      "cell_type": "code",
      "execution_count": null,
      "metadata": {
        "colab": {
          "base_uri": "https://localhost:8080/",
          "height": 35
        },
        "id": "Ky5Fvlc_wkI9",
        "outputId": "efabbc44-3f64-4342-de5c-f1f5fa886333"
      },
      "outputs": [
        {
          "data": {
            "application/vnd.google.colaboratory.intrinsic+json": {
              "type": "string"
            },
            "text/plain": [
              "'Late Blight'"
            ]
          },
          "execution_count": 15,
          "metadata": {
            "tags": []
          },
          "output_type": "execute_result"
        }
      ],
      "source": [
        "classes[y_classes[13]]"
      ]
    },
    {
      "cell_type": "code",
      "execution_count": null,
      "metadata": {
        "colab": {
          "base_uri": "https://localhost:8080/",
          "height": 35
        },
        "id": "jM3UrK0iwkFt",
        "outputId": "e2bcfb83-41f6-4d8a-97ad-0d14890a13ca"
      },
      "outputs": [
        {
          "data": {
            "application/vnd.google.colaboratory.intrinsic+json": {
              "type": "string"
            },
            "text/plain": [
              "'Septoria leaf spot'"
            ]
          },
          "execution_count": 16,
          "metadata": {
            "tags": []
          },
          "output_type": "execute_result"
        }
      ],
      "source": [
        "classes[y_classes[8]]"
      ]
    },
    {
      "cell_type": "code",
      "execution_count": null,
      "metadata": {
        "colab": {
          "base_uri": "https://localhost:8080/",
          "height": 35
        },
        "id": "ZE58pV5ylP8P",
        "outputId": "48ad2351-6a80-4d64-b72c-db31585d0236"
      },
      "outputs": [
        {
          "data": {
            "application/vnd.google.colaboratory.intrinsic+json": {
              "type": "string"
            },
            "text/plain": [
              "'Bacterial Spot'"
            ]
          },
          "execution_count": 17,
          "metadata": {
            "tags": []
          },
          "output_type": "execute_result"
        }
      ],
      "source": [
        "classes[y_classes[1]]"
      ]
    },
    {
      "cell_type": "markdown",
      "metadata": {
        "id": "y8beC67Jmice"
      },
      "source": [
        "# ***USER INTERFACE***"
      ]
    },
    {
      "cell_type": "code",
      "execution_count": null,
      "metadata": {
        "colab": {
          "base_uri": "https://localhost:8080/"
        },
        "id": "wKaHqni-wkCM",
        "outputId": "7275fbb9-6a46-4453-8f2a-ccebc6ed73ae"
      },
      "outputs": [
        {
          "name": "stdout",
          "output_type": "stream",
          "text": [
            "\u001b[K     |████████████████████████████████| 1.6MB 25.1MB/s \n",
            "\u001b[K     |████████████████████████████████| 1.9MB 58.3MB/s \n",
            "\u001b[K     |████████████████████████████████| 215kB 52.0MB/s \n",
            "\u001b[K     |████████████████████████████████| 3.2MB 40.2MB/s \n",
            "\u001b[K     |████████████████████████████████| 71kB 10.5MB/s \n",
            "\u001b[K     |████████████████████████████████| 962kB 49.3MB/s \n",
            "\u001b[?25h  Building wheel for flask-cachebuster (setup.py) ... \u001b[?25l\u001b[?25hdone\n",
            "  Building wheel for ffmpy (setup.py) ... \u001b[?25l\u001b[?25hdone\n"
          ]
        }
      ],
      "source": [
        "!pip install --quiet gradio\n",
        "import gradio as gr"
      ]
    },
    {
      "cell_type": "code",
      "execution_count": null,
      "metadata": {
        "colab": {
          "base_uri": "https://localhost:8080/",
          "height": 588
        },
        "id": "k6xVIY_JwuF1",
        "outputId": "ca45b1be-0477-4621-e4d3-678b97963bb8"
      },
      "outputs": [
        {
          "name": "stdout",
          "output_type": "stream",
          "text": [
            "Colab notebook detected. To show errors in colab notebook, set `debug=True` in `launch()`\n",
            "This share link will expire in 24 hours. If you need a permanent link, visit: https://gradio.app/introducing-hosted (NEW!)\n",
            "Running on External URL: https://33968.gradio.app\n",
            "Interface loading below...\n"
          ]
        },
        {
          "data": {
            "text/html": [
              "\n",
              "        <iframe\n",
              "            width=\"900\"\n",
              "            height=\"500\"\n",
              "            src=\"https://33968.gradio.app\"\n",
              "            frameborder=\"0\"\n",
              "            allowfullscreen\n",
              "        ></iframe>\n",
              "        "
            ],
            "text/plain": [
              "<IPython.lib.display.IFrame at 0x7f3ebd8d5850>"
            ]
          },
          "metadata": {
            "tags": []
          },
          "output_type": "display_data"
        }
      ],
      "source": [
        "def classify_image(inp):\n",
        "  \n",
        "    inp = inp.reshape(-1, 224, 224,3).astype('float32')\n",
        "    inp = np.array(inp)/255\n",
        "  \n",
        "    predictions = model.predict(x=inp, verbose=0)\n",
        "    np.round(predictions)\n",
        "    pred=np.argmax(predictions, axis=-1)[0]\n",
        "    density = classes[pred]\n",
        "    return density\n",
        "\n",
        "image = gr.inputs.Image(shape=(224, 224))\n",
        "label = gr.outputs.Label(num_top_classes=3)\n",
        "\n",
        "gr.Interface(\n",
        "    classify_image, \n",
        "    image, \n",
        "    label,\n",
        "    capture_session=True, interpretation=\"default\").launch();"
      ]
    }
  ],
  "metadata": {
    "colab": {
      "collapsed_sections": [],
      "name": "SYSTEM_PROJECT_3200.ipynb",
      "provenance": []
    },
    "kernelspec": {
      "display_name": "Python 3",
      "name": "python3"
    },
    "language_info": {
      "name": "python"
    }
  },
  "nbformat": 4,
  "nbformat_minor": 0
}
